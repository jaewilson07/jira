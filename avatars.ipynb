{
 "cells": [
  {
   "cell_type": "code",
   "execution_count": 1,
   "metadata": {},
   "outputs": [],
   "source": [
    "# !pip install --upgrade domolibrary"
   ]
  },
  {
   "cell_type": "code",
   "execution_count": 2,
   "metadata": {},
   "outputs": [],
   "source": [
    "from dotenv import load_dotenv\n",
    "import os\n",
    "\n",
    "ENV_PATH = '.env'\n",
    "\n",
    "if not os.path.exists(ENV_PATH):\n",
    "    raise Exception('create dot env file with cookies and request_verification_token')\n",
    "\n",
    "load_dotenv(ENV_PATH)\n",
    "\n",
    "## monitor network traffic and copy paste out of as request\n",
    "cookie = os.environ['cookie']\n",
    "request_verifcation_token = os.environ['request_verifcation_token'] ## pulled from people API\n"
   ]
  },
  {
   "cell_type": "code",
   "execution_count": 3,
   "metadata": {},
   "outputs": [
    {
     "name": "stderr",
     "output_type": "stream",
     "text": [
      "c:\\Users\\jwilson1\\AppData\\Local\\Programs\\Python\\Python310\\lib\\site-packages\\fastprogress\\fastprogress.py:102: UserWarning: Couldn't import ipywidgets properly, progress bar will use console behavior\n",
      "  warn(\"Couldn't import ipywidgets properly, progress bar will use console behavior\")\n"
     ]
    }
   ],
   "source": [
    "import domolibrary.client.DomoAuth as dmda\n",
    "import domolibrary.classes.DomoUser as dmdu\n",
    "\n",
    "auth = dmda.DomoFullAuth(domo_username=os.environ['DOMO_USERNAME'],\n",
    "                  domo_password=os.environ['DOMO_PASSWORD'],\n",
    "                  domo_instance='playstation-beta'\n",
    "                  )\n",
    "\n",
    "await auth.get_auth_token()\n",
    "\n",
    "user_id = 1360345502\n",
    "\n",
    "domo_users = await dmdu.DomoUsers.all_users( auth = auth)\n",
    "\n",
    "# await domo_user.download_avatar(folder_path = './images/', img_name=domo_user.email_address)\n"
   ]
  },
  {
   "cell_type": "code",
   "execution_count": 4,
   "metadata": {},
   "outputs": [
    {
     "data": {
      "text/plain": [
       "[DomoUser(id='1059192465', title='BI Developer (P3)', department='Data Strategy & Operations', display_name='Anna Banas', email_address='anna.banas@sony.com', role_id=1693569310, avatar_key=None, phone_number=None, web_landing_page=None, web_mobile_landing_page=None, employee_id=None, employee_number=None, hire_date=None, reports_to=None, publisher_domain=None, subscriber_domain=None, virtual_user_id=None),\n",
       " DomoUser(id='1108380060', title=None, department=None, display_name='jace.mclean@domo.com', email_address='jace.mclean@domo.com', role_id=1, avatar_key=None, phone_number=None, web_landing_page=None, web_mobile_landing_page=None, employee_id=None, employee_number=None, hire_date=None, reports_to=None, publisher_domain=None, subscriber_domain=None, virtual_user_id=None),\n",
       " DomoUser(id='1226931876', title=None, department=None, display_name='geanrcarlo.palavicini', email_address='geanrcarlo.palavicini@sony.com', role_id=606113284, avatar_key=None, phone_number=None, web_landing_page=None, web_mobile_landing_page=None, employee_id=None, employee_number=None, hire_date=None, reports_to=None, publisher_domain=None, subscriber_domain=None, virtual_user_id=None),\n",
       " DomoUser(id='1251168217', title=None, department=None, display_name='benjamin.audy', email_address='benjamin.audy@sony.com', role_id=606113284, avatar_key=None, phone_number=None, web_landing_page=None, web_mobile_landing_page=None, employee_id=None, employee_number=None, hire_date=None, reports_to=None, publisher_domain=None, subscriber_domain=None, virtual_user_id=None),\n",
       " DomoUser(id='1326825130', title='Software Engineer I', department='Data Strategy & Operations', display_name='Thomas Murphey', email_address='Thomas.Murphey@sony.com', role_id=1693569310, avatar_key=None, phone_number=None, web_landing_page=None, web_mobile_landing_page=None, employee_id=None, employee_number=None, hire_date=None, reports_to=None, publisher_domain=None, subscriber_domain=None, virtual_user_id=None),\n",
       " DomoUser(id='1373189285', title='Director, Product Management', department='Partner & Data Products', display_name='Bal Sanghera', email_address='Bal.Sanghera@sony.com', role_id=365286493, avatar_key=None, phone_number='+18589516573', web_landing_page=None, web_mobile_landing_page=None, employee_id=None, employee_number=None, hire_date=None, reports_to=None, publisher_domain=None, subscriber_domain=None, virtual_user_id=None),\n",
       " DomoUser(id='1401010604', title=None, department=None, display_name='beth.nicholson', email_address='beth.nicholson@sony.com!!', role_id=2, avatar_key=None, phone_number=None, web_landing_page=None, web_mobile_landing_page=None, employee_id=None, employee_number=None, hire_date=None, reports_to=None, publisher_domain=None, subscriber_domain=None, virtual_user_id=None),\n",
       " DomoUser(id='1493085871', title='Sr. Technical Product Owner', department='Data Strategy & Operations', display_name='Brook Girma', email_address='brook.girma@sony.com', role_id=606113284, avatar_key=None, phone_number=None, web_landing_page=None, web_mobile_landing_page=None, employee_id=None, employee_number=None, hire_date=None, reports_to=None, publisher_domain=None, subscriber_domain=None, virtual_user_id=None),\n",
       " DomoUser(id='1693532469', title=None, department=None, display_name='test_pdp3', email_address='test_pdp3@sony.com', role_id=606113284, avatar_key=None, phone_number=None, web_landing_page=None, web_mobile_landing_page=None, employee_id=None, employee_number=None, hire_date=None, reports_to=None, publisher_domain=None, subscriber_domain=None, virtual_user_id=None),\n",
       " DomoUser(id='1783863312', title=None, department=None, display_name='test_pdp1', email_address='test_pdp1@sony.com', role_id=606113284, avatar_key=None, phone_number=None, web_landing_page=None, web_mobile_landing_page=None, employee_id=None, employee_number=None, hire_date=None, reports_to=None, publisher_domain=None, subscriber_domain=None, virtual_user_id=None),\n",
       " DomoUser(id='1825536622', title=None, department=None, display_name='test1@sony.com - via dl 2023-03-24', email_address='test1@sony.com', role_id=606113284, avatar_key=None, phone_number=None, web_landing_page=None, web_mobile_landing_page=None, employee_id=None, employee_number=None, hire_date=None, reports_to=None, publisher_domain=None, subscriber_domain=None, virtual_user_id=None),\n",
       " DomoUser(id='1833787375', title='Analytics Engineer II', department='Data Strategy & Operations', display_name='Catherine Choe', email_address='catherine.choe@sony.com', role_id=606113284, avatar_key=None, phone_number='', web_landing_page=None, web_mobile_landing_page=None, employee_id=None, employee_number=None, hire_date=1652684400000, reports_to=None, publisher_domain=None, subscriber_domain=None, virtual_user_id=None),\n",
       " DomoUser(id='1868958048', title='Analytics Engineer II', department='Data Strategy & Operations', display_name='Anna Favis', email_address='AnnaCarissa.Favis@sony.com', role_id=1693569310, avatar_key=None, phone_number=None, web_landing_page=None, web_mobile_landing_page=None, employee_id=None, employee_number=None, hire_date=None, reports_to=None, publisher_domain=None, subscriber_domain=None, virtual_user_id=None),\n",
       " DomoUser(id='2', title=None, department=None, display_name='download', email_address='system@domo.com', role_id=1, avatar_key=None, phone_number=None, web_landing_page=None, web_mobile_landing_page=None, employee_id=None, employee_number=None, hire_date=None, reports_to=None, publisher_domain=None, subscriber_domain=None, virtual_user_id=None),\n",
       " DomoUser(id='2008955075', title=None, department=None, display_name='jacob.peterson', email_address='jacob.peterson@domo.com', role_id=1, avatar_key=None, phone_number=None, web_landing_page=None, web_mobile_landing_page=None, employee_id=None, employee_number=None, hire_date=None, reports_to=None, publisher_domain=None, subscriber_domain=None, virtual_user_id=None),\n",
       " DomoUser(id='2025426836', title=None, department=None, display_name='Karthik Prasad', email_address='Karthik.Prasad@sony.com', role_id=365286493, avatar_key=None, phone_number=None, web_landing_page=None, web_mobile_landing_page=None, employee_id=None, employee_number=None, hire_date=None, reports_to=None, publisher_domain=None, subscriber_domain=None, virtual_user_id=None),\n",
       " DomoUser(id='2037790231', title='Sr. Analytics Engineer', department='Data Strategy & Operations', display_name='Omprakash Basant Gurubaxani', email_address='OmprakashBasant.Gurubaxani@sony.com', role_id=1, avatar_key=None, phone_number=None, web_landing_page=None, web_mobile_landing_page=None, employee_id=None, employee_number=None, hire_date=None, reports_to=None, publisher_domain=None, subscriber_domain=None, virtual_user_id=None),\n",
       " DomoUser(id='2087958589', title=None, department=None, display_name='sean.white1', email_address='sean.white1@sony.com', role_id=606113284, avatar_key=None, phone_number=None, web_landing_page=None, web_mobile_landing_page=None, employee_id=None, employee_number=None, hire_date=None, reports_to=None, publisher_domain=None, subscriber_domain=None, virtual_user_id=None),\n",
       " DomoUser(id='258792695', title='', department='', display_name='Leah Welch', email_address='leah.welch@sony.com', role_id=606113284, avatar_key=None, phone_number='', web_landing_page=None, web_mobile_landing_page=None, employee_id=None, employee_number=None, hire_date=None, reports_to=None, publisher_domain=None, subscriber_domain=None, virtual_user_id=None),\n",
       " DomoUser(id='320289052', title=None, department=None, display_name='Ed Dawson', email_address='ed.dawson@sony.com!!', role_id=2, avatar_key=None, phone_number=None, web_landing_page=None, web_mobile_landing_page=None, employee_id=None, employee_number=None, hire_date=None, reports_to=None, publisher_domain=None, subscriber_domain=None, virtual_user_id=None),\n",
       " DomoUser(id='502091403', title=None, department=None, display_name='William Honaker', email_address='William.Honaker@sony.com', role_id=606113284, avatar_key=None, phone_number=None, web_landing_page=None, web_mobile_landing_page=None, employee_id=None, employee_number=None, hire_date=None, reports_to=None, publisher_domain=None, subscriber_domain=None, virtual_user_id=None),\n",
       " DomoUser(id='51749192', title=None, department=None, display_name='test_pdp2', email_address='test_pdp2@sony.com', role_id=606113284, avatar_key=None, phone_number=None, web_landing_page=None, web_mobile_landing_page=None, employee_id=None, employee_number=None, hire_date=None, reports_to=None, publisher_domain=None, subscriber_domain=None, virtual_user_id=None),\n",
       " DomoUser(id='587294333', title=None, department=None, display_name='sie.domo.admin', email_address='sie.domo.admin@sony.com', role_id=1234857902, avatar_key=None, phone_number=None, web_landing_page=None, web_mobile_landing_page=None, employee_id=None, employee_number=None, hire_date=None, reports_to=None, publisher_domain=None, subscriber_domain=None, virtual_user_id=None),\n",
       " DomoUser(id='602704534', title=None, department=None, display_name='brent.curry', email_address='brent.curry@sony.com', role_id=606113284, avatar_key=None, phone_number=None, web_landing_page=None, web_mobile_landing_page=None, employee_id=None, employee_number=None, hire_date=None, reports_to=None, publisher_domain=None, subscriber_domain=None, virtual_user_id=None),\n",
       " DomoUser(id='835569068', title=None, department=None, display_name='sie.domo.reset', email_address='sie.domo.reset@sony.com', role_id=1892444045, avatar_key=None, phone_number=None, web_landing_page=None, web_mobile_landing_page=None, employee_id=None, employee_number=None, hire_date=None, reports_to=None, publisher_domain=None, subscriber_domain=None, virtual_user_id=None),\n",
       " DomoUser(id='918702510', title=None, department=None, display_name='dhinesh', email_address='dhinesh.baulraj@sony.com!!', role_id=2, avatar_key=None, phone_number=None, web_landing_page=None, web_mobile_landing_page=None, employee_id=None, employee_number=None, hire_date=None, reports_to=None, publisher_domain=None, subscriber_domain=None, virtual_user_id=None),\n",
       " DomoUser(id='99', title=None, department=None, display_name='DomoBIB', email_address='bib@domo.com', role_id=1, avatar_key=None, phone_number=None, web_landing_page=None, web_mobile_landing_page=None, employee_id=None, employee_number=None, hire_date=None, reports_to=None, publisher_domain=None, subscriber_domain=None, virtual_user_id=None)]"
      ]
     },
     "execution_count": 4,
     "metadata": {},
     "output_type": "execute_result"
    }
   ],
   "source": [
    "import asyncio\n",
    "\n",
    "domo_users_v2 = await asyncio.gather(*[dmdu.DomoUser.get_by_id(auth=auth, user_id=int(domo_user.id)) for domo_user in domo_users\n",
    "                                       if domo_user.id !='None'])\n",
    "\n",
    "domo_users_v2 = [domo_user for domo_user in domo_users_v2 if not domo_user.avatar_key]\n",
    "domo_users_v2"
   ]
  },
  {
   "cell_type": "code",
   "execution_count": 5,
   "metadata": {},
   "outputs": [
    {
     "data": {
      "text/plain": [
       "['anna.banas@sony.com',\n",
       " 'jace.mclean@domo.com',\n",
       " 'geanrcarlo.palavicini@sony.com',\n",
       " 'benjamin.audy@sony.com',\n",
       " 'thomas.murphey@sony.com',\n",
       " 'bal.sanghera@sony.com',\n",
       " 'beth.nicholson@sony.com!!',\n",
       " 'brook.girma@sony.com',\n",
       " 'test_pdp3@sony.com',\n",
       " 'test_pdp1@sony.com',\n",
       " 'test1@sony.com',\n",
       " 'catherine.choe@sony.com',\n",
       " 'annacarissa.favis@sony.com',\n",
       " 'system@domo.com',\n",
       " 'jacob.peterson@domo.com',\n",
       " 'karthik.prasad@sony.com',\n",
       " 'omprakashbasant.gurubaxani@sony.com',\n",
       " 'sean.white1@sony.com',\n",
       " 'leah.welch@sony.com',\n",
       " 'ed.dawson@sony.com!!',\n",
       " 'william.honaker@sony.com',\n",
       " 'test_pdp2@sony.com',\n",
       " 'sie.domo.admin@sony.com',\n",
       " 'brent.curry@sony.com',\n",
       " 'sie.domo.reset@sony.com',\n",
       " 'dhinesh.baulraj@sony.com!!',\n",
       " 'bib@domo.com']"
      ]
     },
     "execution_count": 5,
     "metadata": {},
     "output_type": "execute_result"
    }
   ],
   "source": [
    "avatars_to_sync = [domo_user.email_address.lower().strip() for domo_user in domo_users_v2]\n",
    "avatars_to_sync"
   ]
  },
  {
   "cell_type": "code",
   "execution_count": 6,
   "metadata": {},
   "outputs": [],
   "source": [
    "def generate_headers(cookie, request_verifcation_token :str =  None ):\n",
    "\n",
    "    headers =  {\n",
    "        'authority': 'centerstage.sie.sony.com',\n",
    "        'accept': 'application/json, text/plain, */*',\n",
    "        'cookie': cookie,\n",
    "    }\n",
    "\n",
    "    if request_verifcation_token: headers.update({    '__requestverificationtoken': request_verifcation_token})\n",
    "\n",
    "    return headers"
   ]
  }
 ],
 "metadata": {
  "kernelspec": {
   "display_name": "Python 3",
   "language": "python",
   "name": "python3"
  },
  "language_info": {
   "codemirror_mode": {
    "name": "ipython",
    "version": 3
   },
   "file_extension": ".py",
   "mimetype": "text/x-python",
   "name": "python",
   "nbconvert_exporter": "python",
   "pygments_lexer": "ipython3",
   "version": "3.10.9"
  },
  "orig_nbformat": 4
 },
 "nbformat": 4,
 "nbformat_minor": 2
}
