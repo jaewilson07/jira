{
 "cells": [
  {
   "cell_type": "raw",
   "metadata": {},
   "source": [
    "---\n",
    "description: auth\n",
    "output-file: auth.html\n",
    "title: auth\n",
    "---\n"
   ]
  },
  {
   "cell_type": "code",
   "execution_count": 12,
   "metadata": {},
   "outputs": [],
   "source": [
    "# | default_exp auth"
   ]
  },
  {
   "cell_type": "code",
   "execution_count": 13,
   "metadata": {},
   "outputs": [],
   "source": [
    "# | hide\n",
    "from nbdev.showdoc import *"
   ]
  },
  {
   "cell_type": "code",
   "execution_count": 14,
   "metadata": {},
   "outputs": [],
   "source": [
    "# | exporti\n",
    "import urllib.parse as parse\n",
    "from dataclasses import dataclass, field\n",
    "import base64\n",
    "import httpx\n",
    "\n",
    "import jiralibrary.client as gd"
   ]
  },
  {
   "cell_type": "code",
   "execution_count": 15,
   "metadata": {},
   "outputs": [],
   "source": [
    "# | exporti\n",
    "@dataclass\n",
    "class _JiraAuth_Required:\n",
    "    instance: str  # 'your-domain.atlassian.net'\n",
    "\n",
    "\n",
    "@dataclass\n",
    "class _JiraAuth_Optional:\n",
    "    base_url: str = None"
   ]
  },
  {
   "cell_type": "code",
   "execution_count": 16,
   "metadata": {},
   "outputs": [],
   "source": [
    "# | export\n",
    "\n",
    "\n",
    "@dataclass\n",
    "class JiraAuth(_JiraAuth_Optional, _JiraAuth_Required):\n",
    "    \n",
    "    pass"
   ]
  },
  {
   "cell_type": "code",
   "execution_count": 17,
   "metadata": {},
   "outputs": [
    {
     "data": {
      "text/plain": [
       "JiraAuth(instance='onyxreporting.atlassian.net', base_url=None)"
      ]
     },
     "execution_count": 17,
     "metadata": {},
     "output_type": "execute_result"
    }
   ],
   "source": [
    "import os\n",
    "\n",
    "jira_instance = os.environ[\"JIRA_INSTANCE\"]\n",
    "\n",
    "JiraAuth(instance=jira_instance)"
   ]
  },
  {
   "cell_type": "code",
   "execution_count": 18,
   "metadata": {},
   "outputs": [],
   "source": [
    "# | exporti\n",
    "@dataclass\n",
    "class _JiraAuthPat_Required:\n",
    "    email: str\n",
    "    pat: str = field(repr=False)"
   ]
  },
  {
   "cell_type": "code",
   "execution_count": 19,
   "metadata": {},
   "outputs": [],
   "source": [
    "# | export\n",
    "@dataclass\n",
    "class JiraAuthPat(_JiraAuth_Optional, _JiraAuthPat_Required, _JiraAuth_Required):\n",
    "    def __post_init__(self):\n",
    "        if not self.instance.startswith(\"https://\"):\n",
    "            instance = f\"https://{self.instance}\"\n",
    "\n",
    "        self.instance = parse.urlparse(instance).netloc\n",
    "        self.base_url = instance\n",
    "        \n",
    "    def generate_auth_header(self):\n",
    "        auth_str = base64.b64encode(f\"{self.email}:{self.pat}\".encode(\"ascii\")).decode(\n",
    "            \"ascii\"\n",
    "        )\n",
    "        return {\"Authorization\": f\"Basic {auth_str}\"}\n",
    "\n",
    "    async def who_am_i(\n",
    "        self, session: httpx.AsyncClient = None, debug_api: bool = False\n",
    "    ):\n",
    "        url = f\"{self.base_url}/rest/api/2/myself\"\n",
    "\n",
    "        response = await gd.get_data(\n",
    "            method=\"GET\",\n",
    "            url=url,\n",
    "            auth=self,\n",
    "            debug_api=debug_api,\n",
    "            session=session,\n",
    "        )\n",
    "        return response"
   ]
  },
  {
   "cell_type": "code",
   "execution_count": 20,
   "metadata": {},
   "outputs": [
    {
     "name": "stdout",
     "output_type": "stream",
     "text": [
      "{'body': None,\n",
      " 'headers': {'Accept': 'application/json',\n",
      "             'Authorization': 'Basic '\n",
      "                              'amFlQG9ueXhyZXBvcnRpbmcuY29tOkFUQVRUM3hGZkdGMGlUZkF4WW1fdXlYcXZfUjEyZk5JOEFwc3JsT19tQ3RiOFVWVXVaaEhZSVh3NU5CQnBBZTZwWUZacVBIQTlUbWx5MWw4QjZZMldJWkJqVzZDUFBETE1zLXU0RGFJVkNrbk5zbUdidnFScGdINUdjSWRGUkhqN1RaUWNEUGlneTY1c2FyVHZiSkQ5Y3J0WlY2ajZlZENGRlZzRUdSdDRER1ZacjFqS09CUEwwWT1COUY5RUZGOQ=='},\n",
      " 'params': None,\n",
      " 'url': 'https://onyxreporting.atlassian.net/rest/api/2/myself'}\n"
     ]
    },
    {
     "data": {
      "text/plain": [
       "{'self': 'https://onyxreporting.atlassian.net/rest/api/2/user?accountId=70121:233b7627-506e-41d8-af0c-336541c67dab',\n",
       " 'accountId': '70121:233b7627-506e-41d8-af0c-336541c67dab',\n",
       " 'accountType': 'atlassian',\n",
       " 'emailAddress': 'jae@onyxreporting.com',\n",
       " 'avatarUrls': {'48x48': 'https://secure.gravatar.com/avatar/2314f91c29ace4d7d9426d26448391f4?d=https%3A%2F%2Favatar-management--avatars.us-west-2.prod.public.atl-paas.net%2Finitials%2FJW-0.png',\n",
       "  '24x24': 'https://secure.gravatar.com/avatar/2314f91c29ace4d7d9426d26448391f4?d=https%3A%2F%2Favatar-management--avatars.us-west-2.prod.public.atl-paas.net%2Finitials%2FJW-0.png',\n",
       "  '16x16': 'https://secure.gravatar.com/avatar/2314f91c29ace4d7d9426d26448391f4?d=https%3A%2F%2Favatar-management--avatars.us-west-2.prod.public.atl-paas.net%2Finitials%2FJW-0.png',\n",
       "  '32x32': 'https://secure.gravatar.com/avatar/2314f91c29ace4d7d9426d26448391f4?d=https%3A%2F%2Favatar-management--avatars.us-west-2.prod.public.atl-paas.net%2Finitials%2FJW-0.png'},\n",
       " 'displayName': 'Jae Wilson',\n",
       " 'active': True,\n",
       " 'timeZone': 'Europe/London',\n",
       " 'locale': 'en_US',\n",
       " 'groups': {'size': 1, 'items': []},\n",
       " 'applicationRoles': {'size': 1, 'items': []},\n",
       " 'expand': 'groups,applicationRoles'}"
      ]
     },
     "execution_count": 20,
     "metadata": {},
     "output_type": "execute_result"
    }
   ],
   "source": [
    "import os\n",
    "\n",
    "jira_pat = os.environ[\"JIRA_PAT\"]\n",
    "jira_instance = os.environ[\"JIRA_INSTANCE\"]\n",
    "\n",
    "jira_auth = JiraAuthPat(\n",
    "    pat=jira_pat, email=\"jae@onyxreporting.com\", instance=jira_instance\n",
    ")\n",
    "\n",
    "res = await jira_auth.who_am_i(debug_api=True)\n",
    "\n",
    "res.response"
   ]
  },
  {
   "cell_type": "code",
   "execution_count": 21,
   "metadata": {},
   "outputs": [],
   "source": [
    "# | hide\n",
    "import nbdev\n",
    "\n",
    "nbdev.nbdev_export()"
   ]
  }
 ],
 "metadata": {
  "kernelspec": {
   "display_name": "python3",
   "language": "python",
   "name": "python3"
  },
  "language_info": {
   "codemirror_mode": {
    "name": "ipython",
    "version": 3
   },
   "file_extension": ".py",
   "mimetype": "text/x-python",
   "name": "python",
   "nbconvert_exporter": "python",
   "pygments_lexer": "ipython3",
   "version": "3.10.8"
  }
 },
 "nbformat": 4,
 "nbformat_minor": 2
}
