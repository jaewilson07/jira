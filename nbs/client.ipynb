{
 "cells": [
  {
   "cell_type": "raw",
   "metadata": {},
   "source": [
    "---\n",
    "output-file: client.html\n",
    "title: client\n",
    "---\n"
   ]
  },
  {
   "cell_type": "code",
   "execution_count": null,
   "metadata": {},
   "outputs": [],
   "source": [
    "# | default_exp client"
   ]
  },
  {
   "cell_type": "code",
   "execution_count": null,
   "metadata": {},
   "outputs": [],
   "source": [
    "# | hide\n",
    "from nbdev.showdoc import *"
   ]
  },
  {
   "cell_type": "code",
   "execution_count": null,
   "metadata": {},
   "outputs": [],
   "source": [
    "# | exporti\n",
    "from __future__ import annotations\n",
    "\n",
    "from dataclasses import dataclass, field\n",
    "from pprint import pprint\n",
    "import httpx"
   ]
  },
  {
   "cell_type": "code",
   "execution_count": null,
   "metadata": {},
   "outputs": [],
   "source": [
    "# | export\n",
    "@dataclass\n",
    "class ResponseGetData:\n",
    "    \"\"\"class for returning data from any jiralibrary route\"\"\"\n",
    "\n",
    "    status: int\n",
    "    response: str\n",
    "    auth: any = field(repr=False, default=None)\n",
    "    is_success: bool = False\n",
    "\n",
    "    def __post_init__(self):\n",
    "        self.is_success = True if self.status >= 200 and self.status <= 399 else False\n",
    "\n",
    "    @classmethod\n",
    "    def _from_httpx_response(cls, res: httpx.Response, auth=None):\n",
    "        rgd = cls(status=res.status_code, response=res.json(), auth=auth)\n",
    "\n",
    "        return rgd"
   ]
  },
  {
   "cell_type": "code",
   "execution_count": null,
   "metadata": {},
   "outputs": [
    {
     "data": {
      "text/markdown": [
       "---\n",
       "\n",
       "[source](https://github.com/jaewilson07/jira/blob/main/jiralibrary/client.py#L15){target=\"_blank\" style=\"float:right; font-size:smaller\"}\n",
       "\n",
       "### ResponseGetData\n",
       "\n",
       ">      ResponseGetData (status:int, response:str, auth:<built-\n",
       ">                       infunctionany>=None, is_success:bool=False)\n",
       "\n",
       "class for returning data from any jiralibrary route"
      ],
      "text/plain": [
       "---\n",
       "\n",
       "[source](https://github.com/jaewilson07/jira/blob/main/jiralibrary/client.py#L15){target=\"_blank\" style=\"float:right; font-size:smaller\"}\n",
       "\n",
       "### ResponseGetData\n",
       "\n",
       ">      ResponseGetData (status:int, response:str, auth:<built-\n",
       ">                       infunctionany>=None, is_success:bool=False)\n",
       "\n",
       "class for returning data from any jiralibrary route"
      ]
     },
     "execution_count": null,
     "metadata": {},
     "output_type": "execute_result"
    }
   ],
   "source": [
    "show_doc(ResponseGetData)\n"
   ]
  },
  {
   "cell_type": "code",
   "execution_count": null,
   "metadata": {},
   "outputs": [
    {
     "data": {
      "text/plain": [
       "ResponseGetData(status=200, response='hello world', is_success=True)"
      ]
     },
     "execution_count": null,
     "metadata": {},
     "output_type": "execute_result"
    }
   ],
   "source": [
    "ResponseGetData(status=200, response=\"hello world\")"
   ]
  },
  {
   "cell_type": "code",
   "execution_count": null,
   "metadata": {},
   "outputs": [],
   "source": [
    "# | export\n",
    "\n",
    "\n",
    "async def get_data(\n",
    "    url: str,\n",
    "    method: str,\n",
    "    auth: any,\n",
    "    headers: dict = None,\n",
    "    params: dict = None,\n",
    "    debug_api: bool = False,\n",
    "    body=None,\n",
    "    session: httpx.AsyncClient = None,\n",
    ") -> ResponseGetData:\n",
    "    \"\"\"wrapper for httpx Request library, always use with jiralibrary class\"\"\"\n",
    "\n",
    "    is_close_session = False\n",
    "    method = method.lower()\n",
    "\n",
    "    if not headers:\n",
    "        headers = {\"Accept\": \"application/json\"}\n",
    "\n",
    "    if auth:\n",
    "        headers = {**headers, **auth.generate_auth_header()}\n",
    "\n",
    "    if not session:\n",
    "        session = httpx.AsyncClient()\n",
    "        is_close_session = True\n",
    "\n",
    "    if debug_api:\n",
    "        pprint({\"url\": url, \"headers\": headers, \"params\": params, \"body\": body})\n",
    "\n",
    "    if method == 'get':\n",
    "        res = await getattr(session, method)( url=url, headers=headers, params=params )\n",
    "    else: \n",
    "        res = await getattr(session, method)( url=url, headers=headers, params=params, data=body)\n",
    "\n",
    "    if is_close_session:\n",
    "        await session.aclose()\n",
    "\n",
    "    return ResponseGetData._from_httpx_response(res)"
   ]
  },
  {
   "cell_type": "code",
   "execution_count": null,
   "metadata": {},
   "outputs": [],
   "source": [
    "# | hide\n",
    "import nbdev\n",
    "\n",
    "nbdev.nbdev_export()"
   ]
  }
 ],
 "metadata": {
  "kernelspec": {
   "display_name": "python3",
   "language": "python",
   "name": "python3"
  }
 },
 "nbformat": 4,
 "nbformat_minor": 2
}
